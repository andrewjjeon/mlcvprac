{
 "cells": [
  {
   "cell_type": "code",
   "execution_count": 10,
   "id": "22a3ffb1",
   "metadata": {},
   "outputs": [],
   "source": [
    "from math import cos, sin, atan2, acos, sqrt, pi, radians\n",
    "import matplotlib.pyplot as plt"
   ]
  },
  {
   "cell_type": "code",
   "execution_count": 11,
   "id": "5cc36b1b",
   "metadata": {},
   "outputs": [],
   "source": [
    "class RobotArm2D:\n",
    "    '''\n",
    "    A 2D robot arm implementation using polar to cartesian conversion.\n",
    "    '''\n",
    "    def __init__(self):\n",
    "        self.basex = 0\n",
    "        self.basey = 0\n",
    "        self.j1angle = 0.0\n",
    "        self.j2angle = 0.0\n",
    "        self.j3angle = 0.0\n",
    "        self.j1length = 1.0\n",
    "        self.j2length = 1.0\n",
    "        self.j3length = 1.0\n",
    "\n",
    "    def set_joint_angles(self, deg1, deg2, deg3):\n",
    "        self.j1angle = radians(deg1)\n",
    "        self.j2angle = radians(deg2)\n",
    "        self.j3angle = radians(deg3)\n",
    "\n",
    "    def set_joint_lengths(self, length1, length2, length3):\n",
    "        self.j1length = length1\n",
    "        self.j2length = length2\n",
    "        self.j3length = length3\n",
    "\n",
    "    def get_joint_angles(self):\n",
    "        return self.j1angle, self.j2angle, self.j3angle\n",
    "\n",
    "    def get_joint_lengths(self):\n",
    "        return self.j1length, self.j2length, self.j3length\n",
    "\n",
    "    def get_joint_positions(self):\n",
    "        '''\n",
    "        Returns the joint positions in a list of tuples.\n",
    "        '''\n",
    "        joint_positions = []\n",
    "        x1 = self.basex + self.j1length * cos(self.j1angle)\n",
    "        y1 = self.basey + self.j1length * sin(self.j1angle)\n",
    "        joint_positions.append((x1, y1))\n",
    "\n",
    "        x2 = x1 + self.j2length * cos(self.j1angle + self.j2angle)\n",
    "        y2 = y1 + self.j2length * sin(self.j1angle + self.j2angle)\n",
    "        joint_positions.append((x2, y2))\n",
    "\n",
    "        x3 = x2 + self.j3length * cos(self.j1angle + self.j2angle + self.j3angle)\n",
    "        y3 = y2 + self.j3length * sin(self.j1angle + self.j2angle + self.j3angle)\n",
    "        joint_positions.append((x3, y3))\n",
    "\n",
    "        return joint_positions\n",
    "\n",
    "    def reset(self):\n",
    "        self.j1angle = 0.0\n",
    "        self.j2angle = 0.0\n",
    "        self.j3angle = 0.0\n",
    "\n",
    "    def get_end_effector_orientation(self):\n",
    "        return self.j1angle + self.j2angle + self.j3angle\n",
    "\n",
    "    def get_end_effector_position(self):\n",
    "        '''\n",
    "        Calculate the end effector position based off of forward kinematics.\n",
    "        x = link1 * cos(theta1) + link2 * cos(theta1 + theta2) + ... + linkN * cos(theta1 + theta2 + ... + thetaN)\n",
    "        y = link1 * sin(theta1) + link2 * sin(theta1 + theta2) + ... + linkN * sin(theta1 + theta2 + ... + thetaN)\n",
    "        '''\n",
    "        x = self.j1length * cos(self.j1angle) + self.j2length * cos(self.j1angle + self.j2angle) + self.j3length * cos(self.j1angle + self.j2angle + self.j3angle)\n",
    "        y = self.j1length * sin(self.j1angle) + self.j2length * sin(self.j1angle + self.j2angle) + self.j3length * sin(self.j1angle + self.j2angle + self.j3angle)\n",
    "        return self.basex + x, self.basey + y"
   ]
  },
  {
   "cell_type": "code",
   "execution_count": 37,
   "id": "8ee322fd",
   "metadata": {},
   "outputs": [],
   "source": [
    "def plot_arm(arm):\n",
    "    joints = [(arm.basex, arm.basey)] + arm.get_joint_positions()\n",
    "    print(joints)\n",
    "    xs = [x for x, y in joints]\n",
    "    ys = [y for x, y in joints]\n",
    "\n",
    "    plt.plot(xs, ys, '-o')\n",
    "    plt.xlim(-3, 3)\n",
    "    plt.ylim(-3, 3)\n",
    "    plt.grid(True)\n",
    "    plt.title(\"Robot Arm Configuration\")\n",
    "    plt.show()"
   ]
  },
  {
   "cell_type": "code",
   "execution_count": 38,
   "id": "38f5b6e3",
   "metadata": {},
   "outputs": [
    {
     "name": "stdout",
     "output_type": "stream",
     "text": [
      "[(0, 0), (6.123233995736766e-17, 1.0), (0.49999999999999994, 1.8660254037844388), (1.3660254037844386, 2.366025403784439)]\n"
     ]
    },
    {
     "data": {
      "image/png": "[encoded data removed]",
      "text/plain": [
       "<Figure size 640x480 with 1 Axes>"
      ]
     },
     "metadata": {},
     "output_type": "display_data"
    }
   ],
   "source": [
    "arm = RobotArm2D()\n",
    "arm.set_joint_angles(90, -30, -30)  # example motion\n",
    "plot_arm(arm)"
   ]
  }
 ],
 "metadata": {
  "kernelspec": {
   "display_name": "cse446",
   "language": "python",
   "name": "python3"
  },
  "language_info": {
   "codemirror_mode": {
    "name": "ipython",
    "version": 3
   },
   "file_extension": ".py",
   "mimetype": "text/x-python",
   "name": "python",
   "nbconvert_exporter": "python",
   "pygments_lexer": "ipython3",
   "version": "3.9.15"
  }
 },
 "nbformat": 4,
 "nbformat_minor": 5
}
