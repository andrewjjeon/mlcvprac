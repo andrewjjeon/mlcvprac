{
 "cells": [
  {
   "cell_type": "markdown",
   "id": "f12e0948",
   "metadata": {},
   "source": [
    "# Modified Binary Search"
   ]
  },
  {
   "cell_type": "code",
   "execution_count": null,
   "id": "dcc9f6d4",
   "metadata": {},
   "outputs": [],
   "source": [
    "https://leetcode.com/problems/binary-search/ # Close enough. The grokking problem allows sorted input arrays as ascending or descending, which only introduces a simple check\n",
    "Did not find. Problem is find index of smallest element greater or equal to input value\n",
    "https://leetcode.com/problems/find-smallest-letter-greater-than-target/\n",
    "https://leetcode.com/problems/find-first-and-last-position-of-element-in-sorted-array/\n",
    "https://leetcode.com/problems/search-in-a-sorted-array-of-unknown-size/\n",
    "https://leetcode.com/problems/find-k-closest-elements/ (with K == 1)\n",
    "https://leetcode.com/problems/peak-index-in-a-mountain-array/\n",
    "https://leetcode.com/problems/find-in-mountain-array/\n",
    "https://leetcode.com/problems/search-in-rotated-sorted-array/\n",
    "Similar to previous, but find the number of rotations of the array."
   ]
  },
  {
   "cell_type": "code",
   "execution_count": null,
   "id": "db06dae0",
   "metadata": {},
   "outputs": [],
   "source": []
  }
 ],
 "metadata": {
  "language_info": {
   "name": "python"
  }
 },
 "nbformat": 4,
 "nbformat_minor": 5
}
