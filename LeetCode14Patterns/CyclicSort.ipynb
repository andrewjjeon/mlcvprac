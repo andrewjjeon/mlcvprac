{
 "cells": [
  {
   "cell_type": "markdown",
   "id": "f12e0948",
   "metadata": {},
   "source": [
    "# Cyclic Sort"
   ]
  },
  {
   "cell_type": "code",
   "execution_count": null,
   "id": "dcc9f6d4",
   "metadata": {},
   "outputs": [],
   "source": [
    "Couldn't find equivalent for the first question. The second question below encompasses the first one though. See https://leetcode.com/problems/missing-number/discuss/859510/C%2B%2B-O(N)-O(1)-using-Cyclic-Sort for how grokking the coding interview approached these problems. It uses the fact that we can sort the array in O(n) without comparison operators\n",
    "https://leetcode.com/problems/missing-number/\n",
    "https://leetcode.com/problems/find-all-numbers-disappeared-in-an-array/\n",
    "https://leetcode.com/problems/find-all-duplicates-in-an-array/\n",
    "combine https://leetcode.com/problems/find-the-duplicate-number/ and https://leetcode.com/problems/missing-number/\n",
    "https://leetcode.com/problems/first-missing-positive/\n",
    "https://leetcode.com/problems/kth-missing-positive-number/"
   ]
  },
  {
   "cell_type": "code",
   "execution_count": null,
   "id": "db06dae0",
   "metadata": {},
   "outputs": [],
   "source": []
  }
 ],
 "metadata": {
  "language_info": {
   "name": "python"
  }
 },
 "nbformat": 4,
 "nbformat_minor": 5
}
