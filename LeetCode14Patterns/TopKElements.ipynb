{
 "cells": [
  {
   "cell_type": "markdown",
   "id": "f12e0948",
   "metadata": {},
   "source": [
    "# Top 'K' Elements"
   ]
  },
  {
   "cell_type": "code",
   "execution_count": null,
   "id": "dcc9f6d4",
   "metadata": {},
   "outputs": [],
   "source": [
    "Same as second question, but the first Grokking question wants the top K instead of the bottom K\n",
    "https://leetcode.com/problems/kth-largest-element-in-an-array\n",
    "https://leetcode.com/problems/k-closest-points-to-origin/\n",
    "https://leetcode.com/problems/minimum-cost-to-connect-sticks/\n",
    "https://leetcode.com/problems/top-k-frequent-elements/\n",
    "https://leetcode.com/problems/sort-characters-by-frequency/\n",
    "https://leetcode.com/problems/kth-largest-element-in-a-stream/\n",
    "https://leetcode.com/problems/find-k-closest-elements/\n",
    "https://leetcode.com/problems/least-number-of-unique-integers-after-k-removals/ closest leetcode or https://www.geeksforgeeks.org/maximum-distinct-elements-removing-k-elements/ for exact\n",
    "https://www.geeksforgeeks.org/sum-elements-k1th-k2th-smallest-elements/ no leetcode equivalent found\n",
    "https://leetcode.com/problems/reorganize-string/\n",
    "https://leetcode.com/problems/rearrange-string-k-distance-apart/\n",
    "https://leetcode.com/problems/task-scheduler/\n",
    "https://leetcode.com/problems/maximum-frequency-stack/"
   ]
  },
  {
   "cell_type": "code",
   "execution_count": null,
   "id": "db06dae0",
   "metadata": {},
   "outputs": [],
   "source": []
  }
 ],
 "metadata": {
  "language_info": {
   "name": "python"
  }
 },
 "nbformat": 4,
 "nbformat_minor": 5
}
