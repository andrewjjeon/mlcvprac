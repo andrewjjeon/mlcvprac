{
 "cells": [
  {
   "cell_type": "markdown",
   "id": "f12e0948",
   "metadata": {},
   "source": [
    "# Topological Sort"
   ]
  },
  {
   "cell_type": "code",
   "execution_count": null,
   "id": "dcc9f6d4",
   "metadata": {},
   "outputs": [],
   "source": [
    "First problem is identical to the following three\n",
    "https://leetcode.com/problems/course-schedule/\n",
    "https://leetcode.com/problems/course-schedule-ii/\n",
    "Same as above, but return all instead of any\n",
    "https://leetcode.com/problems/alien-dictionary/\n",
    "https://leetcode.com/problems/sequence-reconstruction/description/\n",
    "https://leetcode.com/problems/minimum-height-trees/"
   ]
  },
  {
   "cell_type": "code",
   "execution_count": null,
   "id": "db06dae0",
   "metadata": {},
   "outputs": [],
   "source": []
  }
 ],
 "metadata": {
  "language_info": {
   "name": "python"
  }
 },
 "nbformat": 4,
 "nbformat_minor": 5
}
