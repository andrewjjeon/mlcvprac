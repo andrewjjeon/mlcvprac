{
 "cells": [
  {
   "cell_type": "markdown",
   "id": "1a0d38f6",
   "metadata": {},
   "source": [
    "### Real Interview DSA Questions"
   ]
  },
  {
   "cell_type": "code",
   "execution_count": null,
   "id": "4d77bbd4",
   "metadata": {},
   "outputs": [],
   "source": [
    "# Find All Palindromes - Allen Control Systems\n",
    "##############################################\n",
    "# Given an input string, find all unique palindromes within it.\n",
    "# Example Strings:\n",
    "# '7100303001' produces ['030', '100303001', '03030', '0030300', '303', '00']\n",
    "# '3101200021221' produces ['20002', '1200021', '101', '212', '1221', '00', '000', '22']\n",
    "# Palindrome - string that reads the same forwards and backwards, exclude length 1\n",
    "# As in most real-world situations, there are many acceptable solutions. Please make the choices you would make in the real world, in this situation:\n",
    "# The input string is guaranteed to be fairly short, no more than 30 characters.\n",
    "# It's important for it to be readable, maintainable, and bug-free. It doesn’t need to be high-performance. Plan your approach accordingly.\n",
    "\n",
    "\n",
    "from typing import List\n",
    "\n",
    "\n",
    "def find_all_palindromes(input_str) -> List[str]:\n",
    "    res = set()\n",
    "    is_palindrome = lambda s: s == s[::-1]\n",
    "    # try every possible sequence lenghth > 1\n",
    "    length = len(input_str)\n",
    "    for start in range(length-1):\n",
    "        for end in range(start+2, length+1):\n",
    "            s = input_str[start:end]\n",
    "            if is_palindrome(s):\n",
    "                res.add(s)\n",
    "    \n",
    "    return list(res)\n",
    "\n",
    "\n",
    "print(find_all_palindromes('deified'))\n",
    "print(find_all_palindromes('3101200021221'))\n",
    "print(find_all_palindromes('7100303001'))"
   ]
  },
  {
   "cell_type": "code",
   "execution_count": null,
   "id": "a814a5b9",
   "metadata": {},
   "outputs": [],
   "source": [
    "#Binary Image Connected Components\n",
    "\n",
    "#List[List]\n",
    "#[1, 0, 0, 0, 0]\n",
    "#[1, 0, 0, 0, 0]\n",
    "#[1, 0, 0, 0, 0]\n",
    "#[0, 0, 0, 1, 0]\n",
    "#[0, 0, 0, 0, 0]"
   ]
  }
 ],
 "metadata": {
  "language_info": {
   "name": "python"
  }
 },
 "nbformat": 4,
 "nbformat_minor": 5
}
