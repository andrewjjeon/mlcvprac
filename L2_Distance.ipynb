{
 "cells": [
  {
   "cell_type": "markdown",
   "id": "9a1ef591",
   "metadata": {},
   "source": [
    "### L2 Norm / Euclidean Distance ###\n",
    "- L2 Norm --> how long is this vector?\n",
    "- L2 Distance --> how far apart are these vectors?\n",
    "\n",
    "![L2 Distance for 2 points](images/l2_2pt.png)\n",
    "![L2 Distance General Form](images/l2general.png)\n",
    "<img src=\"images/l2norm.png\" width=\"300\">\n",
    "\n"
   ]
  },
  {
   "cell_type": "code",
   "execution_count": 8,
   "id": "66d13311",
   "metadata": {},
   "outputs": [],
   "source": [
    "from math import sqrt"
   ]
  },
  {
   "cell_type": "code",
   "execution_count": 5,
   "id": "33bfb1b0",
   "metadata": {},
   "outputs": [],
   "source": [
    "def l2dist(p1, p2):\n",
    "    sum = 0\n",
    "    for i in range(len(point1)):  # if x, y then 2 iterations\n",
    "        sum += (point1[i] - point2[i])**2  # different of each point’s x and y respectively then square it and add\n",
    "    l2 = sqrt(sum)\n",
    "\n",
    "    return l2"
   ]
  },
  {
   "cell_type": "code",
   "execution_count": 6,
   "id": "5dce5db1",
   "metadata": {},
   "outputs": [],
   "source": [
    "def l2norm(v):\n",
    "    sum = 0\n",
    "    for d in v:\n",
    "        sum += abs(d)**2\n",
    "    l2 = sqrt(sum)\n",
    "    return l2"
   ]
  },
  {
   "cell_type": "code",
   "execution_count": 15,
   "id": "b974033c",
   "metadata": {},
   "outputs": [
    {
     "name": "stdout",
     "output_type": "stream",
     "text": [
      "2.0\n",
      "5.196152422706632\n"
     ]
    }
   ],
   "source": [
    "point1 = [0, 0]\n",
    "point2 = [sqrt(2), sqrt(2)]\n",
    "euclidean_dist = l2dist(point1, point2)\n",
    "print(euclidean_dist)\n",
    "\n",
    "vector = [3, 3, 3]\n",
    "norm = l2norm(vector)\n",
    "print(norm)"
   ]
  }
 ],
 "metadata": {
  "kernelspec": {
   "display_name": "cse446",
   "language": "python",
   "name": "python3"
  },
  "language_info": {
   "codemirror_mode": {
    "name": "ipython",
    "version": 3
   },
   "file_extension": ".py",
   "mimetype": "text/x-python",
   "name": "python",
   "nbconvert_exporter": "python",
   "pygments_lexer": "ipython3",
   "version": "3.9.15"
  }
 },
 "nbformat": 4,
 "nbformat_minor": 5
}
