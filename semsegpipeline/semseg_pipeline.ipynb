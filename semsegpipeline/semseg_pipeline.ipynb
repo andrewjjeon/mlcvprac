{
 "cells": [
  {
   "cell_type": "code",
   "execution_count": 70,
   "id": "43cdac0c",
   "metadata": {},
   "outputs": [],
   "source": [
    "from torchvision.io.image import decode_image, encode_jpeg\n",
    "from torchvision.models.segmentation import deeplabv3_resnet101, DeepLabV3_ResNet101_Weights\n",
    "from torchvision.transforms.functional import to_pil_image\n",
    "\n",
    "import torch\n",
    "import torch.nn.functional as F\n",
    "import numpy as np\n",
    "import os"
   ]
  },
  {
   "cell_type": "code",
   "execution_count": null,
   "id": "c5cd7806",
   "metadata": {},
   "outputs": [
    {
     "name": "stdout",
     "output_type": "stream",
     "text": [
      "image path: C:\\Users\\andre\\Desktop\\mlcvprac\\semanticsegmentation_prac\\data\\images\\000000.png\n",
      "image tensor shape torch.Size([3, 2160, 3840])\n",
      "label path: C:\\Users\\andre\\Desktop\\mlcvprac\\semanticsegmentation_prac\\data\\labels\\000000.png\n",
      "label tensor shape: torch.Size([3, 2160, 3840])\n"
     ]
    }
   ],
   "source": [
    "# Step 0: Load and decode input image and label image\n",
    "img_dir = r\"C:\\Users\\andre\\Desktop\\mlcvprac\\semsegpipeline\\data\\images\"\n",
    "label_dir = r\"C:\\Users\\andre\\Desktop\\mlcvprac\\semsegpipeline\\data\\labels\"\n",
    "\n",
    "for img_name in os.listdir(path=img_dir):\n",
    "    img_path = os.path.join(img_dir, img_name)\n",
    "    img_tensor = decode_image(img_path)\n",
    "    print(f\"image path: {img_path}\")\n",
    "    print(f\"image tensor shape {img_tensor.shape}\")\n",
    "    break\n",
    "\n",
    "for label_name in os.listdir(path=label_dir):\n",
    "    label_path = os.path.join(label_dir, label_name)\n",
    "    label_tensor = decode_image(label_path)\n",
    "    print(f\"label path: {label_path}\")\n",
    "    print(f\"label tensor shape: {label_tensor.shape}\")\n",
    "    break"
   ]
  },
  {
   "cell_type": "code",
   "execution_count": null,
   "id": "b835939b",
   "metadata": {},
   "outputs": [],
   "source": [
    "# Step 1: Initialize Model with Weights\n",
    "weights = DeepLabV3_ResNet101_Weights.DEFAULT\n",
    "model = deeplabv3_resnet101(weights=weights)\n",
    "model.eval()\n",
    "\n",
    "# Step 2: Initialize and Apply image preprocessing transforms to match the pretrained image format\n",
    "# weights.transforms() automatically does this\n",
    "preprocess = weights.transforms()\n",
    "batch_img_tensor = preprocess(img_tensor).unsqueeze(0) #unsqueeze to add batch dimension\n",
    "\n",
    "# Step 3: Inference\n",
    "# Get the scores per class per pixel, convert them to probabilities. Size of [1, 21, 520, 924]\n",
    "prediction = model(batch_img_tensor)[\"out\"]\n",
    "normalized_masks = prediction.softmax(dim=1)\n",
    "# Get the mask for the class we are trying to segment\n",
    "class_to_idx = {cls: idx for (idx, cls) in enumerate(weights.meta[\"categories\"])}\n",
    "idx_of_desired_class = class_to_idx[\"car\"]\n",
    "mask = normalized_masks[0, idx_of_desired_class]\n",
    "\n",
    "# Step 4: Convert to Binary Mask for Evaluation\n",
    "# Convert it to a binary mask of the original gt image size for evaluation\n",
    "tensor_mask = mask.unsqueeze(0).unsqueeze(0) #torch operations expect (N,C,H,W) tensor\n",
    "pred_resized = F.interpolate(tensor_mask, size=(2160, 3840), mode='bilinear', align_corners=False)\n",
    "binary_pred_mask_resized = (pred_resized.squeeze().detach().numpy() > 0.5).astype(np.uint8) #squeeze back to (H,W)\n",
    "#logic operations turn it into 0s and 1s so multiply by 255 for visualization sake\n",
    "visible_pred_mask = binary_pred_mask_resized * 255\n",
    "to_pil_image(visible_pred_mask).show()"
   ]
  },
  {
   "cell_type": "code",
   "execution_count": 84,
   "id": "9679240f",
   "metadata": {},
   "outputs": [
    {
     "name": "stdout",
     "output_type": "stream",
     "text": [
      "Car IoU: 0.346600336084404\n"
     ]
    }
   ],
   "source": [
    "# Step 5: Evaluate Inference Result IoU with Label Mask\n",
    "gt_image = to_pil_image(label_tensor)\n",
    "gt_mask = np.array(gt_image)\n",
    "\n",
    "static_car = np.all(gt_mask == [192, 0, 192], axis=-1)\n",
    "moving_car = np.all(gt_mask == [64, 0, 128], axis=-1)\n",
    "\n",
    "binary_gt_mask = static_car.astype(np.uint8)\n",
    "visible_gt_mask = binary_gt_mask * 255 \n",
    "to_pil_image(visible_gt_mask).show()\n",
    "\n",
    "intersection = np.logical_and(binary_pred_mask_resized, binary_gt_mask).sum()\n",
    "union = np.logical_or(binary_pred_mask_resized, binary_gt_mask).sum()\n",
    "IoU = intersection / union\n",
    "print(f\"Car IoU: {IoU}\")"
   ]
  }
 ],
 "metadata": {
  "kernelspec": {
   "display_name": "pipeline_practice",
   "language": "python",
   "name": "python3"
  },
  "language_info": {
   "codemirror_mode": {
    "name": "ipython",
    "version": 3
   },
   "file_extension": ".py",
   "mimetype": "text/x-python",
   "name": "python",
   "nbconvert_exporter": "python",
   "pygments_lexer": "ipython3",
   "version": "3.12.11"
  }
 },
 "nbformat": 4,
 "nbformat_minor": 5
}
