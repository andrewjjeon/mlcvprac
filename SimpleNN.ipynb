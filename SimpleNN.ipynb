{
 "cells": [
  {
   "cell_type": "code",
   "execution_count": 107,
   "id": "b6801f3d",
   "metadata": {},
   "outputs": [],
   "source": [
    "import numpy as np\n",
    "import torch\n",
    "from torch import nn, optim\n",
    "from torch.utils.data import TensorDataset, DataLoader, random_split"
   ]
  },
  {
   "cell_type": "code",
   "execution_count": 108,
   "id": "42e37841",
   "metadata": {},
   "outputs": [],
   "source": [
    "### Generate Synthetic Dataset ###\n",
    "X = np.random.randn(1000, 2).astype(np.float32)\n",
    "Y = (np.sum(X, axis=1) > 0).astype(np.float32) # if sum(x_features) > 0 then 1, else 0\n",
    "X = torch.tensor(X)\n",
    "Y = torch.tensor(Y)\n",
    "\n",
    "dataset = TensorDataset(X, Y) # convert dataset to tensor for pytorch\n",
    "\n",
    "train_size = int(0.8 * len(dataset)) # 80-20 split\n",
    "test_size = len(dataset) - train_size\n",
    "train_dataset, test_dataset = random_split(dataset, [train_size, test_size])\n",
    "\n",
    "train_loader = DataLoader(train_dataset, batch_size=32, shuffle=True)\n",
    "test_loader = DataLoader(test_dataset, batch_size=32, shuffle=False)\n",
    "\n",
    "### Define a Simple NN ###\n",
    "model = nn.Sequential(\n",
    "    nn.Linear(2, 32),\n",
    "    nn.ReLU(),\n",
    "    nn.Linear(32, 2),\n",
    "    nn.Softmax(dim=1) # get softmax probabilities per class\n",
    ")"
   ]
  },
  {
   "cell_type": "code",
   "execution_count": 109,
   "id": "ac51aac9",
   "metadata": {},
   "outputs": [
    {
     "name": "stdout",
     "output_type": "stream",
     "text": [
      "Epoch 1, Loss: 0.6036\n",
      "Epoch 2, Loss: 0.5671\n",
      "Epoch 3, Loss: 0.5486\n",
      "Epoch 4, Loss: 0.5025\n",
      "Epoch 5, Loss: 0.4909\n",
      "Epoch 6, Loss: 0.4559\n",
      "Epoch 7, Loss: 0.4331\n",
      "Epoch 8, Loss: 0.4353\n",
      "Epoch 9, Loss: 0.4284\n",
      "Epoch 10, Loss: 0.4376\n",
      "total accuracy: 98.66071319580078%\n"
     ]
    }
   ],
   "source": [
    "loss_fn = nn.CrossEntropyLoss()\n",
    "optimizer = optim.Adam(model.parameters(), lr=0.001)\n",
    "\n",
    "### Training Loop ###\n",
    "epochs = 10\n",
    "model.train()\n",
    "for epoch in range(epochs):\n",
    "    for x_batch, y_batch in train_loader:\n",
    "        train_batch_preds = model(x_batch)\n",
    "        loss = loss_fn(train_batch_preds, y_batch.long())\n",
    "        optimizer.zero_grad()\n",
    "        loss.backward()\n",
    "        optimizer.step()\n",
    "\n",
    "    print(f\"Epoch {epoch+1}, Loss: {loss.item():.4f}\")\n",
    "\n",
    "\n",
    "### Evaluation on Test Set ###\n",
    "model.eval()\n",
    "total_accuracy = 0\n",
    "with torch.no_grad():\n",
    "    for x_batch, y_batch in test_loader:\n",
    "        test_batch_probs = model(x_batch)\n",
    "        test_batch_preds = torch.argmax(test_batch_probs, axis=1)\n",
    "        correct = (test_batch_preds == y_batch).sum()\n",
    "        batch_accuracy = correct / len(y_batch)\n",
    "        total_accuracy += batch_accuracy\n",
    "\n",
    "    total_accuracy /= len(test_loader)\n",
    "    print(f\"total accuracy: {total_accuracy * 100}%\")"
   ]
  }
 ],
 "metadata": {
  "kernelspec": {
   "display_name": "cse446",
   "language": "python",
   "name": "python3"
  },
  "language_info": {
   "codemirror_mode": {
    "name": "ipython",
    "version": 3
   },
   "file_extension": ".py",
   "mimetype": "text/x-python",
   "name": "python",
   "nbconvert_exporter": "python",
   "pygments_lexer": "ipython3",
   "version": "3.9.15"
  }
 },
 "nbformat": 4,
 "nbformat_minor": 5
}
