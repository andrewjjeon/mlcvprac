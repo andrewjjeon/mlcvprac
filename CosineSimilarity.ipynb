{
 "cells": [
  {
   "cell_type": "markdown",
   "id": "b17aa0ed",
   "metadata": {},
   "source": [
    "### Cosine Similarity ###\n",
    "![Cosine Similarity](images/cossimilarity.png)"
   ]
  },
  {
   "cell_type": "code",
   "execution_count": 7,
   "id": "1f8de6b5",
   "metadata": {},
   "outputs": [],
   "source": [
    "# Given a list of embeddings for known SKUs or objects, and a query embedding for an unknown object, classify the query based on cosine simlarity to the known objects.\n",
    "\n",
    "def cosine_similarity(list1, list2):\n",
    "    sum_num = 0\n",
    "    sumd1 = 0\n",
    "    sumd2 = 0\n",
    "    for a, b in zip(list1, list2):\n",
    "        sum_num += a * b\n",
    "        sumd1 += a * a\n",
    "        sumd2 += b * b\n",
    "    \n",
    "    cos_similarity = sum_num / ((sumd1 ** 0.5) * (sumd2 ** 0.5))\n",
    "    return cos_similarity\n",
    "\n",
    "def classify(query_embedding, known_embeddings):\n",
    "    highest_similarity = -1\n",
    "    for k, v in known_embeddings.items():\n",
    "        similarity = cosine_similarity(v, query_embedding)\n",
    "        if similarity > highest_similarity:\n",
    "            highest_similarity = similarity\n",
    "            classification = k\n",
    "    return classification, highest_similarity\n"
   ]
  },
  {
   "cell_type": "code",
   "execution_count": 10,
   "id": "20d2ce33",
   "metadata": {},
   "outputs": [
    {
     "name": "stdout",
     "output_type": "stream",
     "text": [
      "bottle 0.999742524176409\n"
     ]
    }
   ],
   "source": [
    "query = [0.5, 0.7]\n",
    "references = {\n",
    "    \"bottle\" : [0.49, 0.72],\n",
    "    \"box\" : [-0.2, 0.1],\n",
    "}\n",
    "\n",
    "classification, score = classify(query, references)\n",
    "print(classification, score)"
   ]
  }
 ],
 "metadata": {
  "kernelspec": {
   "display_name": "cse446",
   "language": "python",
   "name": "python3"
  },
  "language_info": {
   "codemirror_mode": {
    "name": "ipython",
    "version": 3
   },
   "file_extension": ".py",
   "mimetype": "text/x-python",
   "name": "python",
   "nbconvert_exporter": "python",
   "pygments_lexer": "ipython3",
   "version": "3.9.15"
  }
 },
 "nbformat": 4,
 "nbformat_minor": 5
}
