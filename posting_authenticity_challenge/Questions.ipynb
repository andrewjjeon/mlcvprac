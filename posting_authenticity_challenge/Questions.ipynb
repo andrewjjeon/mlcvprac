{
 "cells": [
  {
   "cell_type": "markdown",
   "metadata": {
    "colab_type": "text",
    "id": "x_BkOtqBIKQz"
   },
   "source": [
    "# Data Science Challenge"
   ]
  },
  {
   "cell_type": "code",
   "execution_count": 21,
   "metadata": {
    "colab": {},
    "colab_type": "code",
    "id": "U_VthdACIKQ6"
   },
   "outputs": [
    {
     "name": "stderr",
     "output_type": "stream",
     "text": [
      "The syntax of the command is incorrect.\n"
     ]
    }
   ],
   "source": [
    "# To install packages that aren't installed by default, uncomment the last two lines of this cell \n",
    "# and replace <package list> with a list of packages.\n",
    "# This will ensure the notebook has all the dependencies and works everywhere.\n",
    "\n",
    "import sys\n",
    "!{sys.executable} -m pip install <package list>"
   ]
  },
  {
   "cell_type": "code",
   "execution_count": 22,
   "metadata": {
    "colab": {},
    "colab_type": "code",
    "id": "VzGFUCCVIKRL"
   },
   "outputs": [],
   "source": [
    "#Libraries\n",
    "import pandas as pd\n",
    "pd.set_option(\"display.max_columns\", 101)"
   ]
  },
  {
   "cell_type": "markdown",
   "metadata": {
    "colab_type": "text",
    "id": "TZ23KNY8IKRT"
   },
   "source": [
    "## Data Description"
   ]
  },
  {
   "cell_type": "markdown",
   "metadata": {
    "colab_type": "text",
    "id": "jWSkqquEIKRW"
   },
   "source": [
    "Column | Description\n",
    ":---|:---\n",
    "`id` | The unique ID assigned to every job posting.\n",
    "`title` | The title of the job offered. For example, Marketing Intern, Developer, etc.\n",
    "`location` | The geographical location of the job.\n",
    "`department` | The department of the job. For example, Sales, etc.\n",
    "`industry` | The industry of the job. For example, IT, Health, etc.\n",
    "`salary_range` | The salary range offered by the company (in \\$\\$).\n",
    "`work_from_home` | The flag indicates if the job allows work from home..\n",
    "`company_logo` | The flag indicates if the company offering the job has a registered logo.\n",
    "`screening_round` | The flag indicates if there will be a screening round for candidates applying for the job.\n",
    "`employment_type` | The type of employment offered by the company. For example, Full-time, Part-time, etc.\n",
    "`required_experience` | The minimum experience required for the job. (in years).\n",
    "`required_education` | The minimum required education for the job. For example, Master's Degree, Bachelor's Degree, etc.\n",
    "`is_authentic` | The flag indicates if the job posting is authentic or not. Values are 1 (authentic) and 0 (not authentic)."
   ]
  },
  {
   "cell_type": "markdown",
   "metadata": {
    "colab_type": "text",
    "id": "BWQqx7cSIKRX"
   },
   "source": [
    "## Data Wrangling & Visualization"
   ]
  },
  {
   "cell_type": "code",
   "execution_count": 23,
   "metadata": {
    "colab": {},
    "colab_type": "code",
    "id": "SsjL7tf7IKRc"
   },
   "outputs": [],
   "source": [
    "# Dataset is already loaded below\n",
    "data = pd.read_csv(\"train.csv\")"
   ]
  },
  {
   "cell_type": "code",
   "execution_count": 24,
   "metadata": {
    "colab": {},
    "colab_type": "code",
    "id": "kzuHtZEkIKRh",
    "outputId": "9d14832c-2eda-48eb-df41-548113a94a73"
   },
   "outputs": [
    {
     "data": {
      "text/html": [
       "<div>\n",
       "<style scoped>\n",
       "    .dataframe tbody tr th:only-of-type {\n",
       "        vertical-align: middle;\n",
       "    }\n",
       "\n",
       "    .dataframe tbody tr th {\n",
       "        vertical-align: top;\n",
       "    }\n",
       "\n",
       "    .dataframe thead th {\n",
       "        text-align: right;\n",
       "    }\n",
       "</style>\n",
       "<table border=\"1\" class=\"dataframe\">\n",
       "  <thead>\n",
       "    <tr style=\"text-align: right;\">\n",
       "      <th></th>\n",
       "      <th>id</th>\n",
       "      <th>title</th>\n",
       "      <th>location</th>\n",
       "      <th>department</th>\n",
       "      <th>industry</th>\n",
       "      <th>salary_range</th>\n",
       "      <th>work_from_home</th>\n",
       "      <th>company_logo</th>\n",
       "      <th>screening_round</th>\n",
       "      <th>employment_type</th>\n",
       "      <th>required_experience</th>\n",
       "      <th>required_education</th>\n",
       "      <th>is_authentic</th>\n",
       "    </tr>\n",
       "  </thead>\n",
       "  <tbody>\n",
       "    <tr>\n",
       "      <th>0</th>\n",
       "      <td>17693</td>\n",
       "      <td>Administrative Assistant</td>\n",
       "      <td>Sacramento</td>\n",
       "      <td>Information Technology</td>\n",
       "      <td>Education Management</td>\n",
       "      <td>34000-42000</td>\n",
       "      <td>0</td>\n",
       "      <td>0</td>\n",
       "      <td>0</td>\n",
       "      <td>Full-time</td>\n",
       "      <td>Entry level</td>\n",
       "      <td>NaN</td>\n",
       "      <td>0</td>\n",
       "    </tr>\n",
       "    <tr>\n",
       "      <th>1</th>\n",
       "      <td>14476</td>\n",
       "      <td>Junior Lifestyle Consultant</td>\n",
       "      <td>Athens</td>\n",
       "      <td>Administrative</td>\n",
       "      <td>Telecommunications</td>\n",
       "      <td>NaN</td>\n",
       "      <td>0</td>\n",
       "      <td>1</td>\n",
       "      <td>1</td>\n",
       "      <td>Full-time</td>\n",
       "      <td>Not Applicable</td>\n",
       "      <td>Bachelor's Degree</td>\n",
       "      <td>1</td>\n",
       "    </tr>\n",
       "    <tr>\n",
       "      <th>2</th>\n",
       "      <td>14799</td>\n",
       "      <td>Licensed Clinician</td>\n",
       "      <td>Athens</td>\n",
       "      <td>Other</td>\n",
       "      <td>Financial Services</td>\n",
       "      <td>NaN</td>\n",
       "      <td>0</td>\n",
       "      <td>1</td>\n",
       "      <td>1</td>\n",
       "      <td>Full-time</td>\n",
       "      <td>Mid-Senior level</td>\n",
       "      <td>Bachelor's Degree</td>\n",
       "      <td>1</td>\n",
       "    </tr>\n",
       "    <tr>\n",
       "      <th>3</th>\n",
       "      <td>10409</td>\n",
       "      <td>English Teacher Abroad</td>\n",
       "      <td>Sacramento</td>\n",
       "      <td>Engineering</td>\n",
       "      <td>Education Management</td>\n",
       "      <td>NaN</td>\n",
       "      <td>0</td>\n",
       "      <td>1</td>\n",
       "      <td>1</td>\n",
       "      <td>Contract</td>\n",
       "      <td>NaN</td>\n",
       "      <td>Bachelor's Degree</td>\n",
       "      <td>1</td>\n",
       "    </tr>\n",
       "    <tr>\n",
       "      <th>4</th>\n",
       "      <td>13359</td>\n",
       "      <td>Senior Sales Executive - West</td>\n",
       "      <td>San Francisco</td>\n",
       "      <td>Administrative</td>\n",
       "      <td>Consumer Services</td>\n",
       "      <td>NaN</td>\n",
       "      <td>1</td>\n",
       "      <td>1</td>\n",
       "      <td>1</td>\n",
       "      <td>Full-time</td>\n",
       "      <td>Executive</td>\n",
       "      <td>Bachelor's Degree</td>\n",
       "      <td>1</td>\n",
       "    </tr>\n",
       "  </tbody>\n",
       "</table>\n",
       "</div>"
      ],
      "text/plain": [
       "      id                          title       location  \\\n",
       "0  17693       Administrative Assistant     Sacramento   \n",
       "1  14476    Junior Lifestyle Consultant         Athens   \n",
       "2  14799             Licensed Clinician         Athens   \n",
       "3  10409        English Teacher Abroad      Sacramento   \n",
       "4  13359  Senior Sales Executive - West  San Francisco   \n",
       "\n",
       "               department              industry salary_range  work_from_home  \\\n",
       "0  Information Technology  Education Management  34000-42000               0   \n",
       "1          Administrative    Telecommunications          NaN               0   \n",
       "2                   Other    Financial Services          NaN               0   \n",
       "3             Engineering  Education Management          NaN               0   \n",
       "4          Administrative     Consumer Services          NaN               1   \n",
       "\n",
       "   company_logo  screening_round employment_type required_experience  \\\n",
       "0             0                0       Full-time         Entry level   \n",
       "1             1                1       Full-time      Not Applicable   \n",
       "2             1                1       Full-time    Mid-Senior level   \n",
       "3             1                1        Contract                 NaN   \n",
       "4             1                1       Full-time           Executive   \n",
       "\n",
       "  required_education  is_authentic  \n",
       "0                NaN             0  \n",
       "1  Bachelor's Degree             1  \n",
       "2  Bachelor's Degree             1  \n",
       "3  Bachelor's Degree             1  \n",
       "4  Bachelor's Degree             1  "
      ]
     },
     "execution_count": 24,
     "metadata": {},
     "output_type": "execute_result"
    }
   ],
   "source": [
    "data.head()\n",
    "\n",
    "#data.head() is a way to peek at the first few rows of a DataFrame, just to get a sense of structure of data"
   ]
  },
  {
   "cell_type": "code",
   "execution_count": 25,
   "metadata": {
    "colab": {},
    "colab_type": "code",
    "id": "0mhMZRlBIKRu",
    "outputId": "0a669059-5528-4ec0-d64b-8231f6aadf45"
   },
   "outputs": [
    {
     "data": {
      "text/plain": [
       "Index(['id', 'title', 'location', 'department', 'industry', 'salary_range',\n",
       "       'work_from_home', 'company_logo', 'screening_round', 'employment_type',\n",
       "       'required_experience', 'required_education', 'is_authentic'],\n",
       "      dtype='object')"
      ]
     },
     "execution_count": 25,
     "metadata": {},
     "output_type": "execute_result"
    }
   ],
   "source": [
    "#Explore columns\n",
    "data.columns"
   ]
  },
  {
   "cell_type": "code",
   "execution_count": 26,
   "metadata": {
    "colab": {},
    "colab_type": "code",
    "id": "-SrTmyfJIKR1",
    "outputId": "12b270ca-8c3f-402b-d6c1-286c17e63fdd"
   },
   "outputs": [
    {
     "data": {
      "text/html": [
       "<div>\n",
       "<style scoped>\n",
       "    .dataframe tbody tr th:only-of-type {\n",
       "        vertical-align: middle;\n",
       "    }\n",
       "\n",
       "    .dataframe tbody tr th {\n",
       "        vertical-align: top;\n",
       "    }\n",
       "\n",
       "    .dataframe thead th {\n",
       "        text-align: right;\n",
       "    }\n",
       "</style>\n",
       "<table border=\"1\" class=\"dataframe\">\n",
       "  <thead>\n",
       "    <tr style=\"text-align: right;\">\n",
       "      <th></th>\n",
       "      <th>id</th>\n",
       "      <th>work_from_home</th>\n",
       "      <th>company_logo</th>\n",
       "      <th>screening_round</th>\n",
       "      <th>is_authentic</th>\n",
       "    </tr>\n",
       "  </thead>\n",
       "  <tbody>\n",
       "    <tr>\n",
       "      <th>count</th>\n",
       "      <td>2002.000000</td>\n",
       "      <td>2002.000000</td>\n",
       "      <td>2002.000000</td>\n",
       "      <td>2002.000000</td>\n",
       "      <td>2002.000000</td>\n",
       "    </tr>\n",
       "    <tr>\n",
       "      <th>mean</th>\n",
       "      <td>9449.487512</td>\n",
       "      <td>0.050450</td>\n",
       "      <td>0.667832</td>\n",
       "      <td>0.434066</td>\n",
       "      <td>0.692807</td>\n",
       "    </tr>\n",
       "    <tr>\n",
       "      <th>std</th>\n",
       "      <td>5469.589566</td>\n",
       "      <td>0.218925</td>\n",
       "      <td>0.471109</td>\n",
       "      <td>0.495757</td>\n",
       "      <td>0.461445</td>\n",
       "    </tr>\n",
       "    <tr>\n",
       "      <th>min</th>\n",
       "      <td>4.000000</td>\n",
       "      <td>0.000000</td>\n",
       "      <td>0.000000</td>\n",
       "      <td>0.000000</td>\n",
       "      <td>0.000000</td>\n",
       "    </tr>\n",
       "    <tr>\n",
       "      <th>25%</th>\n",
       "      <td>4897.500000</td>\n",
       "      <td>0.000000</td>\n",
       "      <td>0.000000</td>\n",
       "      <td>0.000000</td>\n",
       "      <td>0.000000</td>\n",
       "    </tr>\n",
       "    <tr>\n",
       "      <th>50%</th>\n",
       "      <td>8933.000000</td>\n",
       "      <td>0.000000</td>\n",
       "      <td>1.000000</td>\n",
       "      <td>0.000000</td>\n",
       "      <td>1.000000</td>\n",
       "    </tr>\n",
       "    <tr>\n",
       "      <th>75%</th>\n",
       "      <td>14299.500000</td>\n",
       "      <td>0.000000</td>\n",
       "      <td>1.000000</td>\n",
       "      <td>1.000000</td>\n",
       "      <td>1.000000</td>\n",
       "    </tr>\n",
       "    <tr>\n",
       "      <th>max</th>\n",
       "      <td>17873.000000</td>\n",
       "      <td>1.000000</td>\n",
       "      <td>1.000000</td>\n",
       "      <td>1.000000</td>\n",
       "      <td>1.000000</td>\n",
       "    </tr>\n",
       "  </tbody>\n",
       "</table>\n",
       "</div>"
      ],
      "text/plain": [
       "                 id  work_from_home  company_logo  screening_round  \\\n",
       "count   2002.000000     2002.000000   2002.000000      2002.000000   \n",
       "mean    9449.487512        0.050450      0.667832         0.434066   \n",
       "std     5469.589566        0.218925      0.471109         0.495757   \n",
       "min        4.000000        0.000000      0.000000         0.000000   \n",
       "25%     4897.500000        0.000000      0.000000         0.000000   \n",
       "50%     8933.000000        0.000000      1.000000         0.000000   \n",
       "75%    14299.500000        0.000000      1.000000         1.000000   \n",
       "max    17873.000000        1.000000      1.000000         1.000000   \n",
       "\n",
       "       is_authentic  \n",
       "count   2002.000000  \n",
       "mean       0.692807  \n",
       "std        0.461445  \n",
       "min        0.000000  \n",
       "25%        0.000000  \n",
       "50%        1.000000  \n",
       "75%        1.000000  \n",
       "max        1.000000  "
      ]
     },
     "execution_count": 26,
     "metadata": {},
     "output_type": "execute_result"
    }
   ],
   "source": [
    "#Description\n",
    "data.describe()\n",
    "\n",
    "#data.describe() returns statistics on each column"
   ]
  },
  {
   "cell_type": "markdown",
   "metadata": {
    "colab_type": "text",
    "id": "ymsdDaIPIKSX"
   },
   "source": [
    "## Visualization, Modeling, Machine Learning\n",
    "\n",
    "Build a model that can predicts the authenticity of a job posting and identify how different features influence the decision. Please explain the findings effectively to technical and non-technical audiences using comments and visualizations, if appropriate.\n",
    "- **Build an optimized model that effectively solves the business problem.**\n",
    "- **The model will be evaluated on the basis of Accuracy.**\n",
    "- **Read the test.csv file and prepare features for testing.**"
   ]
  },
  {
   "cell_type": "code",
   "execution_count": 27,
   "metadata": {
    "colab": {},
    "colab_type": "code",
    "id": "Hsxh3SMgIKSY",
    "outputId": "d98d0f00-f33f-407b-df59-a9915bb03fa1"
   },
   "outputs": [
    {
     "data": {
      "text/html": [
       "<div>\n",
       "<style scoped>\n",
       "    .dataframe tbody tr th:only-of-type {\n",
       "        vertical-align: middle;\n",
       "    }\n",
       "\n",
       "    .dataframe tbody tr th {\n",
       "        vertical-align: top;\n",
       "    }\n",
       "\n",
       "    .dataframe thead th {\n",
       "        text-align: right;\n",
       "    }\n",
       "</style>\n",
       "<table border=\"1\" class=\"dataframe\">\n",
       "  <thead>\n",
       "    <tr style=\"text-align: right;\">\n",
       "      <th></th>\n",
       "      <th>id</th>\n",
       "      <th>title</th>\n",
       "      <th>location</th>\n",
       "      <th>department</th>\n",
       "      <th>industry</th>\n",
       "      <th>salary_range</th>\n",
       "      <th>work_from_home</th>\n",
       "      <th>company_logo</th>\n",
       "      <th>screening_round</th>\n",
       "      <th>employment_type</th>\n",
       "      <th>required_experience</th>\n",
       "      <th>required_education</th>\n",
       "    </tr>\n",
       "  </thead>\n",
       "  <tbody>\n",
       "    <tr>\n",
       "      <th>0</th>\n",
       "      <td>3911</td>\n",
       "      <td>linux Engineer</td>\n",
       "      <td>Sacramento</td>\n",
       "      <td>Health Care Provider</td>\n",
       "      <td>Oil &amp; Energy</td>\n",
       "      <td>NaN</td>\n",
       "      <td>0</td>\n",
       "      <td>1</td>\n",
       "      <td>0</td>\n",
       "      <td>Contract</td>\n",
       "      <td>NaN</td>\n",
       "      <td>NaN</td>\n",
       "    </tr>\n",
       "    <tr>\n",
       "      <th>1</th>\n",
       "      <td>2808</td>\n",
       "      <td>Art Director (Freelance to Full-time)</td>\n",
       "      <td>Sacramento</td>\n",
       "      <td>Engineering</td>\n",
       "      <td>Marketing and Advertising</td>\n",
       "      <td>NaN</td>\n",
       "      <td>0</td>\n",
       "      <td>1</td>\n",
       "      <td>1</td>\n",
       "      <td>Full-time</td>\n",
       "      <td>Associate</td>\n",
       "      <td>Bachelor's Degree</td>\n",
       "    </tr>\n",
       "    <tr>\n",
       "      <th>2</th>\n",
       "      <td>17644</td>\n",
       "      <td>Daily Money Team Representative</td>\n",
       "      <td>London</td>\n",
       "      <td>Customer Service</td>\n",
       "      <td>Internet</td>\n",
       "      <td>NaN</td>\n",
       "      <td>1</td>\n",
       "      <td>1</td>\n",
       "      <td>1</td>\n",
       "      <td>Part-time</td>\n",
       "      <td>NaN</td>\n",
       "      <td>High School or equivalent</td>\n",
       "    </tr>\n",
       "    <tr>\n",
       "      <th>3</th>\n",
       "      <td>11629</td>\n",
       "      <td>Sales Professional- SMB (Full-Time)</td>\n",
       "      <td>New York</td>\n",
       "      <td>Marketing</td>\n",
       "      <td>Computer Software</td>\n",
       "      <td>21600-31200</td>\n",
       "      <td>0</td>\n",
       "      <td>1</td>\n",
       "      <td>0</td>\n",
       "      <td>Full-time</td>\n",
       "      <td>Entry level</td>\n",
       "      <td>High School or equivalent</td>\n",
       "    </tr>\n",
       "    <tr>\n",
       "      <th>4</th>\n",
       "      <td>7269</td>\n",
       "      <td>Mobile Developer</td>\n",
       "      <td>Sacramento</td>\n",
       "      <td>Design</td>\n",
       "      <td>Financial Services</td>\n",
       "      <td>NaN</td>\n",
       "      <td>0</td>\n",
       "      <td>1</td>\n",
       "      <td>0</td>\n",
       "      <td>NaN</td>\n",
       "      <td>NaN</td>\n",
       "      <td>NaN</td>\n",
       "    </tr>\n",
       "  </tbody>\n",
       "</table>\n",
       "</div>"
      ],
      "text/plain": [
       "      id                                  title    location  \\\n",
       "0   3911                         linux Engineer  Sacramento   \n",
       "1   2808  Art Director (Freelance to Full-time)  Sacramento   \n",
       "2  17644        Daily Money Team Representative      London   \n",
       "3  11629    Sales Professional- SMB (Full-Time)    New York   \n",
       "4   7269                       Mobile Developer  Sacramento   \n",
       "\n",
       "             department                   industry salary_range  \\\n",
       "0  Health Care Provider               Oil & Energy          NaN   \n",
       "1           Engineering  Marketing and Advertising          NaN   \n",
       "2      Customer Service                   Internet          NaN   \n",
       "3             Marketing          Computer Software  21600-31200   \n",
       "4                Design         Financial Services          NaN   \n",
       "\n",
       "   work_from_home  company_logo  screening_round employment_type  \\\n",
       "0               0             1                0        Contract   \n",
       "1               0             1                1       Full-time   \n",
       "2               1             1                1       Part-time   \n",
       "3               0             1                0       Full-time   \n",
       "4               0             1                0             NaN   \n",
       "\n",
       "  required_experience         required_education  \n",
       "0                 NaN                        NaN  \n",
       "1           Associate          Bachelor's Degree  \n",
       "2                 NaN  High School or equivalent  \n",
       "3         Entry level  High School or equivalent  \n",
       "4                 NaN                        NaN  "
      ]
     },
     "execution_count": 27,
     "metadata": {},
     "output_type": "execute_result"
    }
   ],
   "source": [
    "#Loading Test data\n",
    "test_data=pd.read_csv('test.csv')\n",
    "test_data.head()"
   ]
  },
  {
   "cell_type": "code",
   "execution_count": 28,
   "metadata": {
    "colab": {},
    "colab_type": "code",
    "id": "73vBzp7lIKSf"
   },
   "outputs": [
    {
     "name": "stdout",
     "output_type": "stream",
     "text": [
      "Index(['id', 'title', 'location', 'department', 'industry', 'salary_range',\n",
      "       'work_from_home', 'company_logo', 'screening_round', 'employment_type',\n",
      "       'required_experience', 'required_education', 'is_authentic'],\n",
      "      dtype='object')\n",
      "['id', 'title', 'location', 'department', 'industry', 'salary_range', 'employment_type', 'required_experience', 'required_education']\n",
      "Index(['id', 'title', 'location', 'department', 'industry', 'salary_range',\n",
      "       'work_from_home', 'company_logo', 'screening_round', 'employment_type',\n",
      "       'required_experience', 'required_education', 'is_authentic'],\n",
      "      dtype='object')\n",
      "Accuracy: 0.9002493765586035\n"
     ]
    }
   ],
   "source": [
    "from sklearn.model_selection import train_test_split\n",
    "from sklearn.preprocessing import LabelEncoder, OneHotEncoder, StandardScaler\n",
    "from sklearn.ensemble import RandomForestClassifier\n",
    "from sklearn.metrics import accuracy_score\n",
    "\n",
    "#returns python list of all features/columns in string format\n",
    "features = data.columns.tolist()\n",
    "#remove our y from our dataset\n",
    "features.remove(\"is_authentic\")\n",
    "\n",
    "target = \"is_authentic\"\n",
    "\n",
    "\n",
    "\n",
    "#Preprocess categorical features\n",
    "categorical_features = [\"id\", \"title\", \"location\", \"department\", \"industry\", \"salary_range\",\n",
    "                        \"employment_type\", \"required_experience\", \"required_education\"]\n",
    "\n",
    "print(data.columns)\n",
    "print(categorical_features)\n",
    "\n",
    "#we have to encode our string features into encoded integers so we can run our randomforest model on the data\n",
    "label_encoders = {}   #create empty dictionary to store encoded feature values\n",
    "for feature in categorical_features:\n",
    "    label_encoders[feature] = LabelEncoder()  #creating new key-value pair, with labelencoder object as the value and the feature as the key\n",
    "    data[feature] = label_encoders[feature].fit_transform(data[feature].astype(str)) \n",
    "#first fits the labelencoder object to the string/categorical data to build a mapping, then uses mapping learned during fitting to transform\n",
    "#the data in the feature column\n",
    "\n",
    "\n",
    "numerical_features = [\"work_from_home\", \"company_logo\", \"screening_round\"]\n",
    "#deal with missing values by just replacing with median value of that column\n",
    "data[numerical_features] = data[numerical_features].fillna(data[numerical_features].median())\n",
    "\n",
    "\n",
    "print(data.columns)\n",
    "\n",
    "#Split data into train and validation sets\n",
    "X, y = data[features], data[target]\n",
    "X_train, X_val, y_train, y_val = train_test_split(X, y, test_size=0.2)\n",
    "\n",
    "#Scale/normalize the data\n",
    "scaler = StandardScaler()\n",
    "X_train_scaled = scaler.fit_transform(X_train)  # fit the scaler mapping and use mapping to standardize Xtrain\n",
    "X_val_scaled = scaler.transform(X_val)  # applies the mean/std dev learned from train scaling to standardize validation set\n",
    "\n",
    "#Finally, train the model, I picked a RandomForestClassifier due to the categorical nature of the data, \n",
    "#also ensemble method so it can handle class imbalance better.\n",
    "model = RandomForestClassifier()\n",
    "model.fit(X_train_scaled, y_train)\n",
    "\n",
    "#Visualize an accuracy score on the validation set\n",
    "y_pred = model.predict(X_val_scaled)\n",
    "accuracy = accuracy_score(y_val, y_pred)\n",
    "print(f\"Accuracy: {accuracy}\")"
   ]
  },
  {
   "cell_type": "markdown",
   "metadata": {
    "colab_type": "text",
    "id": "MK_rdXETIKS4"
   },
   "source": [
    "\n",
    "\n",
    "**The management wants to know what are the most important features for your model.**\n",
    "\n",
    "> #### Task:\n",
    "- **Visualize the top 20 features and their feature importance.**\n"
   ]
  },
  {
   "cell_type": "code",
   "execution_count": 29,
   "metadata": {
    "colab": {},
    "colab_type": "code",
    "id": "HHFM3XPMIKS6"
   },
   "outputs": [
    {
     "data": {
      "image/png": "[encoded data removed]",
      "text/plain": [
       "<Figure size 1000x600 with 1 Axes>"
      ]
     },
     "metadata": {},
     "output_type": "display_data"
    }
   ],
   "source": [
    "import matplotlib.pyplot as plt\n",
    "\n",
    "importances = model.feature_importances_ # this is an attribute of the model that returns an array containing the importance value of each feature\n",
    "# it measure \"mean impurity\" or how well a feature splits data at nodes across all trees, it then returns a np array of these rankings for each feature\n",
    "\n",
    "plt.figure(figsize=(10, 6))\n",
    "plt.barh(range(len(features)), importances)  #barh because regular bar is hard to see all the feature names\n",
    "plt.yticks(range(len(features)), features)  #takes 2 array or list items, x is the number of ticks, and y is the label for the ticks\n",
    "plt.xlabel('Feature Importance')\n",
    "plt.ylabel('Features')\n",
    "plt.title('Feature Importances')\n",
    "plt.show()"
   ]
  },
  {
   "cell_type": "code",
   "execution_count": 30,
   "metadata": {
    "colab": {},
    "colab_type": "code",
    "id": "jabG4TJwIKS_"
   },
   "outputs": [],
   "source": [
    "\n",
    "for feature in categorical_features:\n",
    "    test_data[feature] = label_encoders[feature].fit_transform(test_data[feature].astype(str))\n",
    "#Uses the previous labelencoder objects form the training loop -> first fits the labelencoder object to the string/categorical data to build a mapping, \n",
    "#then uses mapping learned during fitting to transform the data in the feature column\n",
    "#.astype(str) just ensures the categorical data in test_data[feature] is in string format.\n",
    "\n",
    "test_data[numerical_features] = data[numerical_features].fillna(data[numerical_features].median())\n",
    "#same as above, filling NaN with median of column\n",
    "\n",
    "X_test_scaled = scaler.transform(test_data[features])\n",
    "# applies the mean/std dev learned from train scaling to standardize test set\n",
    "\n",
    "\n",
    "test_predictions = model.predict(X_test_scaled)\n",
    "\n",
    "submissions_df = pd.DataFrame({'id': test_data['id'], 'is_authentic': test_predictions})\n",
    "\n",
    "submissions_df.to_csv('submissions.csv',index=False)"
   ]
  },
  {
   "cell_type": "markdown",
   "metadata": {
    "colab_type": "text",
    "id": "UFogmgYZIKTE"
   },
   "source": [
    "The model I trained has above a 90% accuracy on my validation set in determining if a job posting is authentic or not. This is a good starting point, however for deployment, we would seek an even higher accuracy through further hyperparameter tuning, perhaps trying different models, regularization, or perhaps even feature engineering among other things.\n",
    "\n",
    "In response to management's inquiry on which are the most important features, I have visualized above, which features the model has deemed most important. Note, I was confused on why I was being asked to visualize the 20 most important features when in my view we really only had 13 features total id, title, location, department, industry, salary_range, work_from_home, company_logo, screening_round, employment_type, required_experience, required_education, is_authentic. So, I chose to visualize all the features in order of importance in a bar graph above. \n",
    "\n",
    "You can see upon inspection the\n",
    "\n",
    "Top 5 most important features\n",
    "1. id\n",
    "2. company_logo\n",
    "3. industry\n",
    "4. department\n",
    "5. title \n",
    "\n",
    "Note: Due to not know how id was generated I chose to include id in the training process, however if id was simply assigned by whoever created the training dataset just to distinguish the data, I would say we should train the model excluding id. I actually tried this approach but due to having a lower accuracy i opted to include id for now.\n"
   ]
  },
  {
   "cell_type": "markdown",
   "metadata": {
    "colab_type": "text",
    "id": "UFogmgYZIKTE"
   },
   "source": [
    "> #### Task:\n",
    "- **Submit the predictions on the test dataset using the optimized model** <br/>\n",
    "    For each record in the test set (`test.csv`), predict the value of the `is_authentic` variable. Submit a CSV file with a header row and one row per test entry.\n",
    "\n",
    "The file (`submissions.csv`) should have exactly 2 columns:\n",
    "   - **id**\n",
    "   - **is_authentic**"
   ]
  },
  {
   "cell_type": "markdown",
   "metadata": {
    "colab_type": "text",
    "id": "H_pB8zTcIKTW"
   },
   "source": [
    "---"
   ]
  }
 ],
 "metadata": {
  "colab": {
   "collapsed_sections": [],
   "name": "Questions.ipynb",
   "provenance": [],
   "version": "0.3.2"
  },
  "kernelspec": {
   "display_name": "Python 3 (ipykernel)",
   "language": "python",
   "name": "python3"
  },
  "language_info": {
   "codemirror_mode": {
    "name": "ipython",
    "version": 3
   },
   "file_extension": ".py",
   "mimetype": "text/x-python",
   "name": "python",
   "nbconvert_exporter": "python",
   "pygments_lexer": "ipython3",
   "version": "3.11.5"
  },
  "toc": {
   "base_numbering": 1,
   "nav_menu": {},
   "number_sections": true,
   "sideBar": true,
   "skip_h1_title": false,
   "title_cell": "Table of Contents",
   "title_sidebar": "Contents",
   "toc_cell": false,
   "toc_position": {},
   "toc_section_display": true,
   "toc_window_display": false
  }
 },
 "nbformat": 4,
 "nbformat_minor": 4
}
