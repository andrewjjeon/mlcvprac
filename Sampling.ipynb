{
 "cells": [
  {
   "cell_type": "code",
   "execution_count": null,
   "id": "4ee11c65",
   "metadata": {},
   "outputs": [
    {
     "name": "stdout",
     "output_type": "stream",
     "text": [
      " np.arange(len(data)) = [0 1 2 3 4 5 6 7 8]\n",
      "<class 'numpy.ndarray'>\n",
      "['dog' 'fish' 'dog' 'fish' 'fish' 'cat']\n"
     ]
    }
   ],
   "source": [
    "# Random Sampling\n",
    "\n",
    "import numpy as np\n",
    "\n",
    "data = np.array([101, 102, 201, 202, 203, 301, 302, 303, 304])\n",
    "labels = np.array(['cat', 'cat', 'dog', 'dog', 'dog', 'fish', 'fish', 'fish', 'fish'])\n",
    "\n",
    "print(f\" np.arange(len(data)) = {np.arange(len(data))}\")\n",
    "inds = np.arange(len(data))\n",
    "sampled_inds = np.random.choice(inds, size=6, replace=False)\n",
    "rand_sample = data[sampled_inds]\n",
    "rand_sample_labels = labels[sampled_inds]\n",
    "\n",
    "print(rand_sample)\n",
    "print(rand_sample_labels)\n"
   ]
  },
  {
   "cell_type": "code",
   "execution_count": null,
   "id": "b5605ba4",
   "metadata": {},
   "outputs": [
    {
     "name": "stdout",
     "output_type": "stream",
     "text": [
      "[301 302 201 202 101 102]\n",
      "['fish' 'fish' 'dog' 'dog' 'cat' 'cat']\n"
     ]
    }
   ],
   "source": [
    "# Stratified Sampling\n",
    "\n",
    "unique_classes = set(labels)\n",
    "strat_sample = np.array([], dtype=data.dtype)\n",
    "strat_sample_labels = np.array([], dtype=labels.dtype)\n",
    "\n",
    "for c in unique_classes:\n",
    "    c_inds = np.where(labels == c)[0] # 0 because the actual array is at [0], data type is [1]\n",
    "    stratsampled_inds = np.random.choice(c_inds, size=2, replace=False)\n",
    "    cstrat_sample = data[stratsampled_inds]\n",
    "    cstrat_sample_labels = labels[stratsampled_inds]\n",
    "\n",
    "    strat_sample = np.concatenate((strat_sample, cstrat_sample))\n",
    "    strat_sample_labels = np.concatenate((strat_sample_labels, cstrat_sample_labels))\n",
    "\n",
    "print(strat_sample)\n",
    "print(strat_sample_labels)"
   ]
  }
 ],
 "metadata": {
  "kernelspec": {
   "display_name": "cse446",
   "language": "python",
   "name": "python3"
  },
  "language_info": {
   "codemirror_mode": {
    "name": "ipython",
    "version": 3
   },
   "file_extension": ".py",
   "mimetype": "text/x-python",
   "name": "python",
   "nbconvert_exporter": "python",
   "pygments_lexer": "ipython3",
   "version": "3.9.15"
  }
 },
 "nbformat": 4,
 "nbformat_minor": 5
}
