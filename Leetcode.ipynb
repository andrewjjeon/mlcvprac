{
 "cells": [
  {
   "cell_type": "markdown",
   "id": "b98f0d63",
   "metadata": {},
   "source": [
    "### LeetCode"
   ]
  },
  {
   "cell_type": "code",
   "execution_count": null,
   "id": "305cbf53",
   "metadata": {},
   "outputs": [],
   "source": [
    "# 1. Two Sum\n",
    "# Given an array of integers nums and an integer target, return indices of the two numbers such that they add up to target.\n",
    "\n",
    "# You may assume that each input would have exactly one solution, and you may not use the same element twice.\n",
    "\n",
    "# You can return the answer in any order.\n",
    "\n",
    "# class Solution:\n",
    "def twoSum(self, nums: List[int], target: int) -> List[int]:\n",
    "    n = len(nums)\n",
    "    other_nums = nums.copy()\n",
    "    for i in range(n):\n",
    "        other_nums[i] = float('inf')\n",
    "        for j in range(n):\n",
    "            if nums[i] + other_nums[j] == target:\n",
    "                return [i, j]\n",
    "        other_nums[i] = nums[i]"
   ]
  }
 ],
 "metadata": {
  "kernelspec": {
   "display_name": "pipeline_practice",
   "language": "python",
   "name": "python3"
  },
  "language_info": {
   "name": "python",
   "version": "3.12.11"
  }
 },
 "nbformat": 4,
 "nbformat_minor": 5
}
