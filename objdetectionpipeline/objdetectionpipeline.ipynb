{
 "cells": [
  {
   "cell_type": "code",
   "execution_count": 2,
   "id": "9cbc5e65",
   "metadata": {},
   "outputs": [],
   "source": [
    "from torchvision.io.image import decode_image\n",
    "from torchvision.models.detection import fasterrcnn_resnet50_fpn_v2, FasterRCNN_ResNet50_FPN_V2_Weights\n",
    "from torchvision.utils import draw_bounding_boxes\n",
    "from torchvision.transforms.functional import to_pil_image\n",
    "\n",
    "import os"
   ]
  },
  {
   "cell_type": "code",
   "execution_count": 3,
   "id": "e4721c9f",
   "metadata": {},
   "outputs": [
    {
     "name": "stdout",
     "output_type": "stream",
     "text": [
      "image path: C:\\Users\\andre\\Desktop\\mlcvprac\\objdetectionpipeline\\data\\images\\P0000.png\n",
      "image tensor shape torch.Size([3, 5502, 3875])\n"
     ]
    }
   ],
   "source": [
    "# Step 0: Load and decode input image and label image\n",
    "img_dir = r\"C:\\Users\\andre\\Desktop\\mlcvprac\\objdetectionpipeline\\data\\images\"\n",
    "label_dir = r\"C:\\Users\\andre\\Desktop\\mlcvprac\\objdetectionpipeline\\data\\labels\"\n",
    "\n",
    "for img_name in os.listdir(path=img_dir):\n",
    "    img_path = os.path.join(img_dir, img_name)\n",
    "    img_tensor = decode_image(img_path)\n",
    "    print(f\"image path: {img_path}\")\n",
    "    print(f\"image tensor shape {img_tensor.shape}\")\n",
    "    break"
   ]
  },
  {
   "cell_type": "code",
   "execution_count": 29,
   "id": "32d70d49",
   "metadata": {},
   "outputs": [
    {
     "name": "stdout",
     "output_type": "stream",
     "text": [
      "torch.Size([3, 5502, 3875])\n"
     ]
    }
   ],
   "source": [
    "print(img_tensor.shape)\n",
    "\n",
    "# Step 1: Initialize model with the best weights\n",
    "weights = FasterRCNN_ResNet50_FPN_V2_Weights.DEFAULT\n",
    "model = fasterrcnn_resnet50_fpn_v2(weights=weights)\n",
    "model.eval()\n",
    "\n",
    "# Step 2: Initialize and Apply image preprocessing transforms to match the pretrained image format\n",
    "# weights.transforms() automatically does this\n",
    "preprocess = weights.transforms()\n",
    "batch_img_tensor = [preprocess(img_tensor)] #unsqueeze to add batch dimension\n",
    "#torchvision detection models expect [[3, 5502, 3875]] list of tensors\n",
    "\n",
    "# Step 3: Inference\n",
    "prediction = model(batch_img_tensor)[0]\n",
    "# convert prediction class indices to actual class words\n",
    "labels = [weights.meta[\"categories\"][i] for i in prediction[\"labels\"]]\n",
    "img_tensor_with_bbs = draw_bounding_boxes(image=img_tensor, \n",
    "                                     boxes=prediction[\"boxes\"], \n",
    "                                     labels=labels, \n",
    "                                     colors=\"red\",\n",
    "                                     width=4)\n",
    "image = to_pil_image(img_tensor_with_bbs.detach())\n",
    "image.show()\n"
   ]
  }
 ],
 "metadata": {
  "kernelspec": {
   "display_name": "pipeline_practice",
   "language": "python",
   "name": "python3"
  },
  "language_info": {
   "codemirror_mode": {
    "name": "ipython",
    "version": 3
   },
   "file_extension": ".py",
   "mimetype": "text/x-python",
   "name": "python",
   "nbconvert_exporter": "python",
   "pygments_lexer": "ipython3",
   "version": "3.12.11"
  }
 },
 "nbformat": 4,
 "nbformat_minor": 5
}
