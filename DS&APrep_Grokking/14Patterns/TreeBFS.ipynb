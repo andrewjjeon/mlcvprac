{
 "cells": [
  {
   "cell_type": "markdown",
   "id": "f12e0948",
   "metadata": {},
   "source": [
    "# TreeBFS"
   ]
  },
  {
   "cell_type": "code",
   "execution_count": null,
   "id": "dcc9f6d4",
   "metadata": {},
   "outputs": [],
   "source": [
    "https://leetcode.com/problems/binary-tree-level-order-traversal/\n",
    "https://leetcode.com/problems/binary-tree-level-order-traversal-ii/\n",
    "https://leetcode.com/problems/binary-tree-zigzag-level-order-traversal/\n",
    "https://leetcode.com/problems/minimum-depth-of-binary-tree/\n",
    "https://leetcode.com/problems/inorder-successor-in-bst/ # Close, not exact\n",
    "https://leetcode.com/problems/populating-next-right-pointers-in-each-node/ # Close, grokk assumes non-perfect tree\n",
    "Next question is the same, but connect end nodes to the next level instead of null\n",
    "https://leetcode.com/problems/binary-tree-right-side-view/"
   ]
  },
  {
   "cell_type": "code",
   "execution_count": null,
   "id": "db06dae0",
   "metadata": {},
   "outputs": [],
   "source": []
  }
 ],
 "metadata": {
  "language_info": {
   "name": "python"
  }
 },
 "nbformat": 4,
 "nbformat_minor": 5
}
