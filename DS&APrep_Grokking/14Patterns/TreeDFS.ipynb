{
 "cells": [
  {
   "cell_type": "markdown",
   "id": "f12e0948",
   "metadata": {},
   "source": [
    "# TreeDFS"
   ]
  },
  {
   "cell_type": "code",
   "execution_count": null,
   "id": "dcc9f6d4",
   "metadata": {},
   "outputs": [],
   "source": [
    "https://leetcode.com/problems/path-sum/\n",
    "https://leetcode.com/problems/path-sum-ii/\n",
    "https://leetcode.com/problems/sum-root-to-leaf-numbers/\n",
    "https://leetcode.com/problems/check-if-a-string-is-a-valid-sequence-from-root-to-leaves-path-in-a-binary-tree/description/\n",
    "https://leetcode.com/problems/path-sum-iii/\n",
    "https://leetcode.com/problems/diameter-of-binary-tree/\n",
    "https://leetcode.com/problems/binary-tree-maximum-path-sum/"
   ]
  }
 ],
 "metadata": {
  "language_info": {
   "name": "python"
  }
 },
 "nbformat": 4,
 "nbformat_minor": 5
}
