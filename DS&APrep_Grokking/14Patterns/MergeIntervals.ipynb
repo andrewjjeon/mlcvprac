{
 "cells": [
  {
   "cell_type": "markdown",
   "id": "f12e0948",
   "metadata": {},
   "source": [
    "# Merge Intervals"
   ]
  },
  {
   "cell_type": "code",
   "execution_count": null,
   "id": "dcc9f6d4",
   "metadata": {},
   "outputs": [],
   "source": [
    "https://leetcode.com/problems/merge-intervals/\n",
    "https://leetcode.com/problems/insert-interval/\n",
    "https://leetcode.com/problems/interval-list-intersections/\n",
    "https://leetcode.com/problems/meeting-rooms-ii/\n",
    "Could not find equivalent. Given a list of intervals with values, find the peak sum (i.e. if intervals are overlapping, sum their values)\n",
    "https://leetcode.com/problems/employee-free-time/"
   ]
  },
  {
   "cell_type": "code",
   "execution_count": null,
   "id": "db06dae0",
   "metadata": {},
   "outputs": [],
   "source": []
  }
 ],
 "metadata": {
  "language_info": {
   "name": "python"
  }
 },
 "nbformat": 4,
 "nbformat_minor": 5
}
