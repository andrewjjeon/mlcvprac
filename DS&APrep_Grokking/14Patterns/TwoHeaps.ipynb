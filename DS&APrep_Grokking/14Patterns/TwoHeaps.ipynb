{
 "cells": [
  {
   "cell_type": "markdown",
   "id": "f12e0948",
   "metadata": {},
   "source": [
    "# Two Heaps"
   ]
  },
  {
   "cell_type": "code",
   "execution_count": null,
   "id": "dcc9f6d4",
   "metadata": {},
   "outputs": [],
   "source": [
    "https://leetcode.com/problems/find-median-from-data-stream/\n",
    "https://leetcode.com/problems/sliding-window-median/\n",
    "https://leetcode.com/problems/ipo/\n",
    "https://leetcode.com/problems/find-right-interval/"
   ]
  },
  {
   "cell_type": "code",
   "execution_count": null,
   "id": "db06dae0",
   "metadata": {},
   "outputs": [],
   "source": []
  }
 ],
 "metadata": {
  "language_info": {
   "name": "python"
  }
 },
 "nbformat": 4,
 "nbformat_minor": 5
}
