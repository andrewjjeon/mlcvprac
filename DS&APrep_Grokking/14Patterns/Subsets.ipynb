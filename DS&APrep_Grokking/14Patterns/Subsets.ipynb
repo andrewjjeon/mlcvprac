{
 "cells": [
  {
   "cell_type": "markdown",
   "id": "f12e0948",
   "metadata": {},
   "source": [
    "# Subsets"
   ]
  },
  {
   "cell_type": "code",
   "execution_count": null,
   "id": "dcc9f6d4",
   "metadata": {},
   "outputs": [],
   "source": [
    "https://leetcode.com/problems/subsets/\n",
    "https://leetcode.com/problems/subsets-ii/\n",
    "https://leetcode.com/problems/permutations/\n",
    "https://leetcode.com/problems/letter-case-permutation/\n",
    "https://leetcode.com/problems/generate-parentheses/\n",
    "https://leetcode.com/problems/generalized-abbreviation/\n",
    "https://leetcode.com/problems/different-ways-to-add-parentheses/\n",
    "https://leetcode.com/problems/unique-binary-search-trees-ii/\n",
    "https://leetcode.com/problems/unique-binary-search-trees/"
   ]
  },
  {
   "cell_type": "code",
   "execution_count": null,
   "id": "db06dae0",
   "metadata": {},
   "outputs": [],
   "source": []
  }
 ],
 "metadata": {
  "language_info": {
   "name": "python"
  }
 },
 "nbformat": 4,
 "nbformat_minor": 5
}
