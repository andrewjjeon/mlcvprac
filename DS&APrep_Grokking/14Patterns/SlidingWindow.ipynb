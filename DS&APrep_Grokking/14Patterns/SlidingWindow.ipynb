{
 "cells": [
  {
   "cell_type": "markdown",
   "id": "f12e0948",
   "metadata": {},
   "source": [
    "# Sliding Window"
   ]
  },
  {
   "cell_type": "code",
   "execution_count": null,
   "id": "dcc9f6d4",
   "metadata": {},
   "outputs": [],
   "source": [
    "https://leetcode.com/problems/maximum-subarray/\n",
    "https://leetcode.com/problems/minimum-size-subarray-sum/\n",
    "https://leetcode.com/problems/longest-substring-with-at-most-k-distinct-characters/\n",
    "https://leetcode.com/problems/fruit-into-baskets/\n",
    "https://leetcode.com/problems/longest-substring-without-repeating-characters/\n",
    "https://leetcode.com/problems/longest-repeating-character-replacement/\n",
    "https://leetcode.com/problems/max-consecutive-ones-iii/\n",
    "https://leetcode.com/problems/permutation-in-string/\n",
    "https://leetcode.com/problems/find-all-anagrams-in-a-string/\n",
    "https://leetcode.com/problems/minimum-window-substring/\n",
    "https://leetcode.com/problems/substring-with-concatenation-of-all-words/"
   ]
  },
  {
   "cell_type": "code",
   "execution_count": null,
   "id": "db06dae0",
   "metadata": {},
   "outputs": [],
   "source": []
  }
 ],
 "metadata": {
  "language_info": {
   "name": "python"
  }
 },
 "nbformat": 4,
 "nbformat_minor": 5
}
