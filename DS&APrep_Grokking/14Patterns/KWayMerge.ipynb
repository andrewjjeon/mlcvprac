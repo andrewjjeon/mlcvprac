{
 "cells": [
  {
   "cell_type": "markdown",
   "id": "f12e0948",
   "metadata": {},
   "source": [
    "# K-way Merge"
   ]
  },
  {
   "cell_type": "code",
   "execution_count": null,
   "id": "dcc9f6d4",
   "metadata": {},
   "outputs": [],
   "source": [
    "https://leetcode.com/problems/merge-k-sorted-lists/\n",
    "Same as previous, but return the Kth smallest number\n",
    "https://leetcode.com/problems/kth-smallest-element-in-a-sorted-matrix/\n",
    "https://leetcode.com/problems/smallest-range-covering-elements-from-k-lists/\n",
    "https://leetcode.com/problems/find-k-pairs-with-smallest-sums/ small difference, grokking has different sort order and wants the largest"
   ]
  },
  {
   "cell_type": "code",
   "execution_count": null,
   "id": "db06dae0",
   "metadata": {},
   "outputs": [],
   "source": []
  }
 ],
 "metadata": {
  "language_info": {
   "name": "python"
  }
 },
 "nbformat": 4,
 "nbformat_minor": 5
}
