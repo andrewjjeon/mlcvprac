{
 "cells": [
  {
   "cell_type": "markdown",
   "id": "f12e0948",
   "metadata": {},
   "source": [
    "# Two Pointers"
   ]
  },
  {
   "cell_type": "code",
   "execution_count": null,
   "id": "dcc9f6d4",
   "metadata": {},
   "outputs": [],
   "source": [
    "https://leetcode.com/problems/two-sum/\n",
    "https://leetcode.com/problems/remove-duplicates-from-sorted-array/\n",
    "https://leetcode.com/problems/squares-of-a-sorted-array/\n",
    "https://leetcode.com/problems/3sum/\n",
    "https://leetcode.com/problems/3sum-closest/\n",
    "https://leetcode.com/problems/3sum-smaller/\n",
    "https://leetcode.com/problems/subarray-product-less-than-k/\n",
    "https://leetcode.com/problems/sort-colors/\n",
    "https://leetcode.com/problems/4sum/\n",
    "https://leetcode.com/problems/backspace-string-compare/\n",
    "https://leetcode.com/problems/shortest-unsorted-continuous-subarray/"
   ]
  },
  {
   "cell_type": "code",
   "execution_count": null,
   "id": "db06dae0",
   "metadata": {},
   "outputs": [],
   "source": []
  }
 ],
 "metadata": {
  "language_info": {
   "name": "python"
  }
 },
 "nbformat": 4,
 "nbformat_minor": 5
}
