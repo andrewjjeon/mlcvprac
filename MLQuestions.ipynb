{
 "cells": [
  {
   "cell_type": "markdown",
   "id": "9a1ef591",
   "metadata": {},
   "source": [
    "### L2 Norm / Euclidean Distance ###\n",
    "- L2 Norm --> how long is this vector?\n",
    "- L2 Distance --> how far apart are these vectors?\n",
    "\n",
    "<img src=\"images/l2_2pt.png\" width=\"400\">\n",
    "<img src=\"images/l2general.png\" width=\"400\">\n",
    "<img src=\"images/l2norm.png\" width=\"400\">\n",
    "\n"
   ]
  },
  {
   "cell_type": "code",
   "execution_count": null,
   "id": "33bfb1b0",
   "metadata": {},
   "outputs": [],
   "source": [
    "from math import sqrt\n",
    "import numpy as np\n",
    "\n",
    "def l2dist(p1, p2):\n",
    "    sum = 0\n",
    "    for i in range(len(point1)):  # if x, y then 2 iterations\n",
    "        sum += (point1[i] - point2[i])**2  # different of each point’s x and y respectively then square it and add\n",
    "    l2 = sqrt(sum)\n",
    "\n",
    "    return l2\n",
    "\n",
    "def l2norm(v): #L2 distance from origin\n",
    "    sum = 0\n",
    "    for d in v:\n",
    "        sum += abs(d)**2\n",
    "    l2 = sqrt(sum)\n",
    "    return l2\n",
    "\n",
    "def l2dist(p1, p2):\n",
    "    d = np.square(np.subtract(p1, p2))\n",
    "    l2 = np.sqrt(np.sum(d))\n",
    "    return l2\n",
    "\n",
    "def l2norm(v):\n",
    "    l2 = np.sqrt(np.sum(np.square(np.absolute(v))))\n",
    "    return l2"
   ]
  },
  {
   "cell_type": "markdown",
   "id": "03560e63",
   "metadata": {},
   "source": [
    "### Cosine Similarity ###\n",
    "<img src=\"images/cossimilarity.png\" width=\"400\">\n"
   ]
  },
  {
   "cell_type": "code",
   "execution_count": null,
   "id": "87a2d8f0",
   "metadata": {},
   "outputs": [],
   "source": [
    "import numpy as np\n",
    "def cosine_similarity(list1, list2):\n",
    "    sum_num = 0\n",
    "    sumd1 = 0\n",
    "    sumd2 = 0\n",
    "    for a, b in zip(list1, list2):\n",
    "        sum_num += a * b\n",
    "        sumd1 += a**2\n",
    "        sumd2 += b**2\n",
    "    \n",
    "    cos_similarity = sum_num / ((sumd1 ** 0.5) * (sumd2 ** 0.5))\n",
    "    return cos_similarity\n",
    "\n",
    "def cosine_similarity(v1, v2):\n",
    "    num = np.sum(np.multiply(v1, v2))\n",
    "    denom = np.sqrt(np.sum(np.square(v1))) * np.sqrt(np.sum(np.square(v2)))\n",
    "    cos_sim = num / denom\n",
    "    return cos_sim"
   ]
  },
  {
   "cell_type": "markdown",
   "id": "0eccd598",
   "metadata": {},
   "source": [
    "### Random Sampling and Stratified Sampling"
   ]
  },
  {
   "cell_type": "code",
   "execution_count": null,
   "id": "ac42434b",
   "metadata": {},
   "outputs": [
    {
     "name": "stdout",
     "output_type": "stream",
     "text": [
      "1 2\n"
     ]
    }
   ],
   "source": [
    "import numpy as np\n",
    "array = [1,1,1,1,1,1,1,1,1,2]\n",
    "\n",
    "rand_s = np.random.choice(array)\n",
    "\n",
    "strat_array = list(set(array))\n",
    "strat_s = np.random.choice(strat_array)"
   ]
  },
  {
   "cell_type": "markdown",
   "id": "329ce22b",
   "metadata": {},
   "source": [
    "### MSE and MAE\n",
    "\n",
    "\n",
    "<img src=\"images/mse_mae.png\" width=\"400\">"
   ]
  },
  {
   "cell_type": "code",
   "execution_count": null,
   "id": "ac11518a",
   "metadata": {},
   "outputs": [],
   "source": [
    "import numpy as np\n",
    "# Add all the loss functions and code them\n",
    "# Cross Entropy loss for softmax classifier, binary and multi-class\n",
    "# Svm loss\n",
    "\n",
    "def mse(y, y_pred):\n",
    "    return np.mean(np.square(y - y_pred))\n",
    "\n",
    "def mae(y, y_pred):\n",
    "    return np.mean(np.absolute(y - y_pred))"
   ]
  }
 ],
 "metadata": {
  "kernelspec": {
   "display_name": "cse446",
   "language": "python",
   "name": "python3"
  },
  "language_info": {
   "codemirror_mode": {
    "name": "ipython",
    "version": 3
   },
   "file_extension": ".py",
   "mimetype": "text/x-python",
   "name": "python",
   "nbconvert_exporter": "python",
   "pygments_lexer": "ipython3",
   "version": "3.9.15"
  }
 },
 "nbformat": 4,
 "nbformat_minor": 5
}
