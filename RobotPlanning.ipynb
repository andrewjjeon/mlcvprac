{
 "cells": [
  {
   "cell_type": "code",
   "execution_count": 2,
   "id": "0de60b70",
   "metadata": {},
   "outputs": [
    {
     "name": "stdout",
     "output_type": "stream",
     "text": [
      "[(0, 0), (1, 0), (2, 0), (2, 1)]\n"
     ]
    }
   ],
   "source": [
    "# A robot operates in a 2D warehouse grid, represented as a matrix or a list of lists. \n",
    "\n",
    "# 0 : \"empty space\"\n",
    "# 1 : \"item to pick up\"\n",
    "# -1: \"obstacle\"\n",
    "\n",
    "# The robot starts at (0, 0), write a function that returns the shortest path as a list of (row, column) tuples.\n",
    "\n",
    "# We need to visit ever cell and keep track of the ones we visited already. We also need to track the shortest path to get to each one. Use a queue to implement a BFS algorithm.\n",
    "# Check the nearest neighbors of the current cell, if they are not visited and not an obstacle, add them to the queue. If we find a cell with a 1, return the path taken to get there.\n",
    "# The queue makes sure we check the closest neighbors first, so we will always find the shortest path to the item.\n",
    "from collections import deque\n",
    "\n",
    "\n",
    "def pickup_plan(grid):\n",
    "    '''\n",
    "    Use a BFS Algorithm to find the shortest path.\n",
    "    '''\n",
    "    neighbors = [(0, 1), (1, 0), (0, -1), (-1, 0)]\n",
    "\n",
    "    start = (0, 0)\n",
    "    visited = set()\n",
    "    visited.add(start)\n",
    "\n",
    "    queue = deque()\n",
    "    queue.append((start, [start]))  # (current position, path taken)\n",
    "\n",
    "    while queue:\n",
    "        (r, c), path = queue.popleft()\n",
    "\n",
    "        for (dr, dc) in neighbors:\n",
    "            nr, nc = r + dr, c + dc\n",
    "            if 0 <= nr < len(grid) and 0 <= nc < len(grid[0]):  #if the new position is in the warehouse\n",
    "                if (nr, nc) not in visited and grid[nr][nc] != -1:\n",
    "                    if grid[nr][nc] == 1:\n",
    "                        return path + [(nr, nc)]\n",
    "                    visited.add((nr, nc))\n",
    "                    queue.append(((nr, nc), path + [(nr, nc)]))\n",
    "\n",
    "\n",
    "grid = [\n",
    "    [0, 0, 0, 0],\n",
    "    [0, -1, -1, 0],\n",
    "    [0, 1, 0, 0],\n",
    "]\n",
    "\n",
    "print(pickup_plan(grid))"
   ]
  }
 ],
 "metadata": {
  "kernelspec": {
   "display_name": "base",
   "language": "python",
   "name": "python3"
  },
  "language_info": {
   "codemirror_mode": {
    "name": "ipython",
    "version": 3
   },
   "file_extension": ".py",
   "mimetype": "text/x-python",
   "name": "python",
   "nbconvert_exporter": "python",
   "pygments_lexer": "ipython3",
   "version": "3.11.7"
  }
 },
 "nbformat": 4,
 "nbformat_minor": 5
}
