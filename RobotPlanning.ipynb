{
 "cells": [
  {
   "cell_type": "code",
   "execution_count": 6,
   "id": "0de60b70",
   "metadata": {},
   "outputs": [
    {
     "name": "stdout",
     "output_type": "stream",
     "text": [
      "[(0, 0), (1, 0), (2, 0), (2, 1)]\n"
     ]
    }
   ],
   "source": [
    "# A robot operates in a 2D warehouse grid, represented as a matrix or a list of lists. \n",
    "\n",
    "# 0 : \"empty space\"\n",
    "# 1 : \"item to pick up\"\n",
    "# -1: \"obstacle\"\n",
    "\n",
    "# The robot starts at (0, 0), write a function that returns the shortest path as a list of (row, column) tuples.\n",
    "from collections import deque\n",
    "\n",
    "\n",
    "def pickup_plan(grid):\n",
    "    '''\n",
    "    Use a BFS Algorithm to find the shortest path.\n",
    "    '''\n",
    "    neighbors = [(0, 1), (1, 0), (0, -1), (-1, 0)]\n",
    "\n",
    "    start = (0, 0)\n",
    "    visited = set()\n",
    "    visited.add(start)\n",
    "\n",
    "    queue = deque()\n",
    "    queue.append((start, [start]))  # (current position, path taken)\n",
    "\n",
    "    while queue:\n",
    "        (r, c), path = queue.popleft()\n",
    "\n",
    "        if grid[r][c] == 1:\n",
    "            return path\n",
    "\n",
    "        for (dr, dc) in neighbors:\n",
    "            nr, nc = r + dr, c + dc\n",
    "            if 0 <= nr < len(grid) and 0 <= nc < len(grid[0]):  #if the new position is in the warehouse\n",
    "                if (nr, nc) not in visited and grid[nr][nc] != -1:\n",
    "                    visited.add((nr, nc))\n",
    "                    unique_path = path + [(nr, nc)]\n",
    "                    queue.append(((nr, nc), unique_path))\n",
    "\n",
    "\n",
    "grid = [\n",
    "    [0, 0, 0, 0],\n",
    "    [0, -1, -1, 0],\n",
    "    [0, 1, 0, 0],\n",
    "]\n",
    "\n",
    "print(pickup_plan(grid))"
   ]
  }
 ],
 "metadata": {
  "kernelspec": {
   "display_name": "cse446",
   "language": "python",
   "name": "python3"
  },
  "language_info": {
   "codemirror_mode": {
    "name": "ipython",
    "version": 3
   },
   "file_extension": ".py",
   "mimetype": "text/x-python",
   "name": "python",
   "nbconvert_exporter": "python",
   "pygments_lexer": "ipython3",
   "version": "3.9.15"
  }
 },
 "nbformat": 4,
 "nbformat_minor": 5
}
